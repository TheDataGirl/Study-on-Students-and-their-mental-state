{
 "cells": [
  {
   "cell_type": "markdown",
   "metadata": {},
   "source": [
    "## Importing the required libraries and loading the dataset"
   ]
  },
  {
   "cell_type": "code",
   "execution_count": 31,
   "metadata": {},
   "outputs": [
    {
     "data": {
      "text/html": [
       "<div>\n",
       "<style scoped>\n",
       "    .dataframe tbody tr th:only-of-type {\n",
       "        vertical-align: middle;\n",
       "    }\n",
       "\n",
       "    .dataframe tbody tr th {\n",
       "        vertical-align: top;\n",
       "    }\n",
       "\n",
       "    .dataframe thead th {\n",
       "        text-align: right;\n",
       "    }\n",
       "</style>\n",
       "<table border=\"1\" class=\"dataframe\">\n",
       "  <thead>\n",
       "    <tr style=\"text-align: right;\">\n",
       "      <th></th>\n",
       "      <th>uid</th>\n",
       "      <th>gpa_all</th>\n",
       "      <th>gpa 13s</th>\n",
       "      <th>cs 65</th>\n",
       "      <th>type</th>\n",
       "      <th>Interested</th>\n",
       "      <th>Distressed</th>\n",
       "      <th>Upset</th>\n",
       "      <th>Strong</th>\n",
       "      <th>Guilty</th>\n",
       "      <th>...</th>\n",
       "      <th>Proud</th>\n",
       "      <th>Irritable</th>\n",
       "      <th>Alert</th>\n",
       "      <th>Inspired</th>\n",
       "      <th>Nervous</th>\n",
       "      <th>Determined</th>\n",
       "      <th>Attentive</th>\n",
       "      <th>Jittery</th>\n",
       "      <th>Active</th>\n",
       "      <th>Afraid</th>\n",
       "    </tr>\n",
       "  </thead>\n",
       "  <tbody>\n",
       "    <tr>\n",
       "      <th>0</th>\n",
       "      <td>u01</td>\n",
       "      <td>2.863</td>\n",
       "      <td>1.777778</td>\n",
       "      <td>3.0</td>\n",
       "      <td>pre</td>\n",
       "      <td>4.0</td>\n",
       "      <td>2.0</td>\n",
       "      <td>2.0</td>\n",
       "      <td>2.0</td>\n",
       "      <td>5.0</td>\n",
       "      <td>...</td>\n",
       "      <td>3.0</td>\n",
       "      <td>2.0</td>\n",
       "      <td>4.0</td>\n",
       "      <td>3.0</td>\n",
       "      <td>3.0</td>\n",
       "      <td>4.0</td>\n",
       "      <td>3.0</td>\n",
       "      <td>2.0</td>\n",
       "      <td>4.0</td>\n",
       "      <td>1.0</td>\n",
       "    </tr>\n",
       "    <tr>\n",
       "      <th>1</th>\n",
       "      <td>u02</td>\n",
       "      <td>3.505</td>\n",
       "      <td>4.000000</td>\n",
       "      <td>4.0</td>\n",
       "      <td>pre</td>\n",
       "      <td>4.0</td>\n",
       "      <td>1.0</td>\n",
       "      <td>1.0</td>\n",
       "      <td>2.0</td>\n",
       "      <td>2.0</td>\n",
       "      <td>...</td>\n",
       "      <td>2.0</td>\n",
       "      <td>2.0</td>\n",
       "      <td>3.0</td>\n",
       "      <td>2.0</td>\n",
       "      <td>2.0</td>\n",
       "      <td>2.0</td>\n",
       "      <td>3.0</td>\n",
       "      <td>3.0</td>\n",
       "      <td>2.0</td>\n",
       "      <td>1.0</td>\n",
       "    </tr>\n",
       "    <tr>\n",
       "      <th>2</th>\n",
       "      <td>u04</td>\n",
       "      <td>3.029</td>\n",
       "      <td>3.500000</td>\n",
       "      <td>4.0</td>\n",
       "      <td>pre</td>\n",
       "      <td>4.0</td>\n",
       "      <td>2.0</td>\n",
       "      <td>1.0</td>\n",
       "      <td>3.0</td>\n",
       "      <td>3.0</td>\n",
       "      <td>...</td>\n",
       "      <td>3.0</td>\n",
       "      <td>2.0</td>\n",
       "      <td>3.0</td>\n",
       "      <td>1.0</td>\n",
       "      <td>2.0</td>\n",
       "      <td>3.0</td>\n",
       "      <td>3.0</td>\n",
       "      <td>1.0</td>\n",
       "      <td>4.0</td>\n",
       "      <td>1.0</td>\n",
       "    </tr>\n",
       "    <tr>\n",
       "      <th>3</th>\n",
       "      <td>u05</td>\n",
       "      <td>3.679</td>\n",
       "      <td>3.777778</td>\n",
       "      <td>4.0</td>\n",
       "      <td>pre</td>\n",
       "      <td>4.0</td>\n",
       "      <td>2.0</td>\n",
       "      <td>1.0</td>\n",
       "      <td>4.0</td>\n",
       "      <td>5.0</td>\n",
       "      <td>...</td>\n",
       "      <td>2.0</td>\n",
       "      <td>2.0</td>\n",
       "      <td>4.0</td>\n",
       "      <td>3.0</td>\n",
       "      <td>1.0</td>\n",
       "      <td>3.0</td>\n",
       "      <td>4.0</td>\n",
       "      <td>1.0</td>\n",
       "      <td>4.0</td>\n",
       "      <td>5.0</td>\n",
       "    </tr>\n",
       "    <tr>\n",
       "      <th>4</th>\n",
       "      <td>u07</td>\n",
       "      <td>3.474</td>\n",
       "      <td>4.000000</td>\n",
       "      <td>4.0</td>\n",
       "      <td>pre</td>\n",
       "      <td>3.0</td>\n",
       "      <td>2.0</td>\n",
       "      <td>2.0</td>\n",
       "      <td>4.0</td>\n",
       "      <td>2.0</td>\n",
       "      <td>...</td>\n",
       "      <td>5.0</td>\n",
       "      <td>4.0</td>\n",
       "      <td>3.0</td>\n",
       "      <td>2.0</td>\n",
       "      <td>3.0</td>\n",
       "      <td>3.0</td>\n",
       "      <td>3.0</td>\n",
       "      <td>1.0</td>\n",
       "      <td>3.0</td>\n",
       "      <td>2.0</td>\n",
       "    </tr>\n",
       "  </tbody>\n",
       "</table>\n",
       "<p>5 rows × 23 columns</p>\n",
       "</div>"
      ],
      "text/plain": [
       "   uid  gpa_all   gpa 13s   cs 65 type  Interested  Distressed  Upset  Strong  \\\n",
       "0  u01    2.863  1.777778     3.0  pre         4.0         2.0    2.0     2.0   \n",
       "1  u02    3.505  4.000000     4.0  pre         4.0         1.0    1.0     2.0   \n",
       "2  u04    3.029  3.500000     4.0  pre         4.0         2.0    1.0     3.0   \n",
       "3  u05    3.679  3.777778     4.0  pre         4.0         2.0    1.0     4.0   \n",
       "4  u07    3.474  4.000000     4.0  pre         3.0         2.0    2.0     4.0   \n",
       "\n",
       "   Guilty  ...  Proud  Irritable  Alert  Inspired  Nervous  Determined   \\\n",
       "0     5.0  ...    3.0        2.0    4.0       3.0      3.0          4.0   \n",
       "1     2.0  ...    2.0        2.0    3.0       2.0      2.0          2.0   \n",
       "2     3.0  ...    3.0        2.0    3.0       1.0      2.0          3.0   \n",
       "3     5.0  ...    2.0        2.0    4.0       3.0      1.0          3.0   \n",
       "4     2.0  ...    5.0        4.0    3.0       2.0      3.0          3.0   \n",
       "\n",
       "   Attentive  Jittery  Active   Afraid   \n",
       "0        3.0      2.0      4.0      1.0  \n",
       "1        3.0      3.0      2.0      1.0  \n",
       "2        3.0      1.0      4.0      1.0  \n",
       "3        4.0      1.0      4.0      5.0  \n",
       "4        3.0      1.0      3.0      2.0  \n",
       "\n",
       "[5 rows x 23 columns]"
      ]
     },
     "execution_count": 31,
     "metadata": {},
     "output_type": "execute_result"
    }
   ],
   "source": [
    "import numpy\n",
    "import pandas as pd\n",
    "import matplotlib.pyplot as plt\n",
    "import seaborn as sns\n",
    "import statsmodels.formula.api as smf\n",
    "import statsmodels.stats.multicomp as multi\n",
    "\n",
    "data=pd.read_csv(r'C:\\Users\\tikun\\Documents\\Data analysis projects\\Stress study\\grades.csv')\n",
    "\n",
    "data.head()"
   ]
  },
  {
   "cell_type": "markdown",
   "metadata": {},
   "source": [
    "## Data Preprocessing"
   ]
  },
  {
   "cell_type": "code",
   "execution_count": 32,
   "metadata": {},
   "outputs": [
    {
     "data": {
      "text/html": [
       "<div>\n",
       "<style scoped>\n",
       "    .dataframe tbody tr th:only-of-type {\n",
       "        vertical-align: middle;\n",
       "    }\n",
       "\n",
       "    .dataframe tbody tr th {\n",
       "        vertical-align: top;\n",
       "    }\n",
       "\n",
       "    .dataframe thead th {\n",
       "        text-align: right;\n",
       "    }\n",
       "</style>\n",
       "<table border=\"1\" class=\"dataframe\">\n",
       "  <thead>\n",
       "    <tr style=\"text-align: right;\">\n",
       "      <th></th>\n",
       "      <th>uid</th>\n",
       "      <th>gpa_all</th>\n",
       "      <th>Distressed</th>\n",
       "      <th>Upset</th>\n",
       "      <th>Proud</th>\n",
       "      <th>Irritable</th>\n",
       "      <th>Nervous</th>\n",
       "    </tr>\n",
       "  </thead>\n",
       "  <tbody>\n",
       "    <tr>\n",
       "      <th>0</th>\n",
       "      <td>u01</td>\n",
       "      <td>2.863</td>\n",
       "      <td>2.0</td>\n",
       "      <td>2.0</td>\n",
       "      <td>3.0</td>\n",
       "      <td>2.0</td>\n",
       "      <td>3.0</td>\n",
       "    </tr>\n",
       "    <tr>\n",
       "      <th>1</th>\n",
       "      <td>u02</td>\n",
       "      <td>3.505</td>\n",
       "      <td>1.0</td>\n",
       "      <td>1.0</td>\n",
       "      <td>2.0</td>\n",
       "      <td>2.0</td>\n",
       "      <td>2.0</td>\n",
       "    </tr>\n",
       "    <tr>\n",
       "      <th>2</th>\n",
       "      <td>u04</td>\n",
       "      <td>3.029</td>\n",
       "      <td>2.0</td>\n",
       "      <td>1.0</td>\n",
       "      <td>3.0</td>\n",
       "      <td>2.0</td>\n",
       "      <td>2.0</td>\n",
       "    </tr>\n",
       "    <tr>\n",
       "      <th>3</th>\n",
       "      <td>u05</td>\n",
       "      <td>3.679</td>\n",
       "      <td>2.0</td>\n",
       "      <td>1.0</td>\n",
       "      <td>2.0</td>\n",
       "      <td>2.0</td>\n",
       "      <td>1.0</td>\n",
       "    </tr>\n",
       "    <tr>\n",
       "      <th>4</th>\n",
       "      <td>u07</td>\n",
       "      <td>3.474</td>\n",
       "      <td>2.0</td>\n",
       "      <td>2.0</td>\n",
       "      <td>5.0</td>\n",
       "      <td>4.0</td>\n",
       "      <td>3.0</td>\n",
       "    </tr>\n",
       "  </tbody>\n",
       "</table>\n",
       "</div>"
      ],
      "text/plain": [
       "   uid  gpa_all  Distressed  Upset  Proud  Irritable  Nervous\n",
       "0  u01    2.863         2.0    2.0    3.0        2.0      3.0\n",
       "1  u02    3.505         1.0    1.0    2.0        2.0      2.0\n",
       "2  u04    3.029         2.0    1.0    3.0        2.0      2.0\n",
       "3  u05    3.679         2.0    1.0    2.0        2.0      1.0\n",
       "4  u07    3.474         2.0    2.0    5.0        4.0      3.0"
      ]
     },
     "execution_count": 32,
     "metadata": {},
     "output_type": "execute_result"
    }
   ],
   "source": [
    "#keeping only the columns or variables needed in the dataframe\n",
    "sub1=data[['uid','gpa_all','Distressed','Upset','Proud','Irritable','Nervous']].dropna()\n",
    "sub1.head()"
   ]
  },
  {
   "cell_type": "code",
   "execution_count": 33,
   "metadata": {},
   "outputs": [],
   "source": [
    "#Converting the explanatory variables to categrical variables\n",
    "sub1['Distressed']=sub1['Distressed'].astype('category')\n",
    "sub1['Upset']=sub1['Upset'].astype('category')\n",
    "sub1['Proud']=sub1['Proud'].astype('category')\n",
    "sub1['Irritable']=sub1['Irritable'].astype('category')\n",
    "sub1['Nervous']=sub1['Nervous'].astype('category')"
   ]
  },
  {
   "cell_type": "markdown",
   "metadata": {},
   "source": [
    "## Data Visualization"
   ]
  },
  {
   "cell_type": "code",
   "execution_count": 34,
   "metadata": {
    "scrolled": false
   },
   "outputs": [
    {
     "name": "stderr",
     "output_type": "stream",
     "text": [
      "C:\\Users\\tikun\\anaconda3\\lib\\site-packages\\seaborn\\categorical.py:3669: UserWarning: The `factorplot` function has been renamed to `catplot`. The original name will be removed in a future release. Please update your code. Note that the default `kind` in `factorplot` (`'point'`) has changed `'strip'` in `catplot`.\n",
      "  warnings.warn(msg)\n"
     ]
    },
    {
     "data": {
      "image/png": "[encoded data removed]",
      "text/plain": [
       "<Figure size 360x360 with 1 Axes>"
      ]
     },
     "metadata": {
      "needs_background": "light"
     },
     "output_type": "display_data"
    },
    {
     "name": "stderr",
     "output_type": "stream",
     "text": [
      "C:\\Users\\tikun\\anaconda3\\lib\\site-packages\\seaborn\\categorical.py:3669: UserWarning: The `factorplot` function has been renamed to `catplot`. The original name will be removed in a future release. Please update your code. Note that the default `kind` in `factorplot` (`'point'`) has changed `'strip'` in `catplot`.\n",
      "  warnings.warn(msg)\n"
     ]
    },
    {
     "data": {
      "image/png": "[encoded data removed]",
      "text/plain": [
       "<Figure size 360x360 with 1 Axes>"
      ]
     },
     "metadata": {
      "needs_background": "light"
     },
     "output_type": "display_data"
    },
    {
     "name": "stderr",
     "output_type": "stream",
     "text": [
      "C:\\Users\\tikun\\anaconda3\\lib\\site-packages\\seaborn\\categorical.py:3669: UserWarning: The `factorplot` function has been renamed to `catplot`. The original name will be removed in a future release. Please update your code. Note that the default `kind` in `factorplot` (`'point'`) has changed `'strip'` in `catplot`.\n",
      "  warnings.warn(msg)\n"
     ]
    },
    {
     "data": {
      "image/png": "[encoded data removed]",
      "text/plain": [
       "<Figure size 360x360 with 1 Axes>"
      ]
     },
     "metadata": {
      "needs_background": "light"
     },
     "output_type": "display_data"
    },
    {
     "name": "stderr",
     "output_type": "stream",
     "text": [
      "C:\\Users\\tikun\\anaconda3\\lib\\site-packages\\seaborn\\categorical.py:3669: UserWarning: The `factorplot` function has been renamed to `catplot`. The original name will be removed in a future release. Please update your code. Note that the default `kind` in `factorplot` (`'point'`) has changed `'strip'` in `catplot`.\n",
      "  warnings.warn(msg)\n"
     ]
    },
    {
     "data": {
      "image/png": "[encoded data removed]",
      "text/plain": [
       "<Figure size 360x360 with 1 Axes>"
      ]
     },
     "metadata": {
      "needs_background": "light"
     },
     "output_type": "display_data"
    },
    {
     "name": "stderr",
     "output_type": "stream",
     "text": [
      "C:\\Users\\tikun\\anaconda3\\lib\\site-packages\\seaborn\\categorical.py:3669: UserWarning: The `factorplot` function has been renamed to `catplot`. The original name will be removed in a future release. Please update your code. Note that the default `kind` in `factorplot` (`'point'`) has changed `'strip'` in `catplot`.\n",
      "  warnings.warn(msg)\n"
     ]
    },
    {
     "data": {
      "image/png": "[encoded data removed]",
      "text/plain": [
       "<Figure size 360x360 with 1 Axes>"
      ]
     },
     "metadata": {
      "needs_background": "light"
     },
     "output_type": "display_data"
    }
   ],
   "source": [
    "sns.factorplot(x ='Distressed', y ='gpa_all', data = sub1) \n",
    "  \n",
    "# Show the plot \n",
    "plt.show() \n",
    "\n",
    "sns.factorplot(x ='Upset', y ='gpa_all', data = sub1) \n",
    "  \n",
    "# Show the plot \n",
    "plt.show() \n",
    "\n",
    "sns.factorplot(x ='Proud', y ='gpa_all', data = sub1) \n",
    "  \n",
    "# Show the plot \n",
    "plt.show() \n",
    "\n",
    "sns.factorplot(x ='Irritable', y ='gpa_all', data = sub1) \n",
    "  \n",
    "# Show the plot \n",
    "plt.show() \n",
    "\n",
    "sns.factorplot(x ='Nervous', y ='gpa_all', data = sub1) \n",
    "  \n",
    "# Show the plot \n",
    "plt.show() "
   ]
  },
  {
   "cell_type": "markdown",
   "metadata": {},
   "source": [
    "## ANOVA Test"
   ]
  },
  {
   "cell_type": "code",
   "execution_count": 36,
   "metadata": {},
   "outputs": [
    {
     "name": "stdout",
     "output_type": "stream",
     "text": [
      "                            OLS Regression Results                            \n",
      "==============================================================================\n",
      "Dep. Variable:                gpa_all   R-squared:                       0.140\n",
      "Model:                            OLS   Adj. R-squared:                 -0.016\n",
      "Method:                 Least Squares   F-statistic:                    0.8973\n",
      "Date:                Thu, 19 Nov 2020   Prob (F-statistic):              0.482\n",
      "Time:                        18:08:53   Log-Likelihood:                -10.787\n",
      "No. Observations:                  27   AIC:                             31.57\n",
      "Df Residuals:                      22   BIC:                             38.05\n",
      "Df Model:                           4                                         \n",
      "Covariance Type:            nonrobust                                         \n",
      "========================================================================================\n",
      "                           coef    std err          t      P>|t|      [0.025      0.975]\n",
      "----------------------------------------------------------------------------------------\n",
      "Intercept                3.6555      0.283     12.934      0.000       3.069       4.242\n",
      "C(Distressed)[T.2.0]    -0.1939      0.307     -0.631      0.535      -0.831       0.443\n",
      "C(Distressed)[T.3.0]    -0.2207      0.326     -0.676      0.506      -0.897       0.456\n",
      "C(Distressed)[T.4.0]     0.0032      0.365      0.009      0.993      -0.754       0.760\n",
      "C(Distressed)[T.5.0]    -0.4731      0.334     -1.415      0.171      -1.167       0.220\n",
      "==============================================================================\n",
      "Omnibus:                        0.537   Durbin-Watson:                   1.696\n",
      "Prob(Omnibus):                  0.765   Jarque-Bera (JB):                0.531\n",
      "Skew:                          -0.294   Prob(JB):                        0.767\n",
      "Kurtosis:                       2.646   Cond. No.                         9.59\n",
      "==============================================================================\n",
      "\n",
      "Warnings:\n",
      "[1] Standard Errors assume that the covariance matrix of the errors is correctly specified.\n",
      "means for gpa based on the state of distress\n",
      "             gpa_all\n",
      "Distressed          \n",
      "1.0         3.655500\n",
      "2.0         3.461636\n",
      "3.0         3.434833\n",
      "4.0         3.658667\n",
      "5.0         3.182400\n",
      "standard deviations for gpa based on the state of distress\n",
      "             gpa_all\n",
      "Distressed          \n",
      "1.0         0.212839\n",
      "2.0         0.321593\n",
      "3.0         0.453564\n",
      "4.0         0.041477\n",
      "5.0         0.592305\n"
     ]
    }
   ],
   "source": [
    "model1 = smf.ols(formula='gpa_all ~ C(Distressed)', data=sub1)\n",
    "results1 = model1.fit()\n",
    "print (results1.summary())\n",
    "\n",
    "sub2 = sub1[['gpa_all', 'Distressed']].dropna()\n",
    "\n",
    "print ('means for gpa based on the state of distress')\n",
    "m1= sub2.groupby('Distressed').mean()\n",
    "print (m1)\n",
    "\n",
    "print ('standard deviations for gpa based on the state of distress')\n",
    "sd1 = sub2.groupby('Distressed').std()\n",
    "print (sd1)"
   ]
  },
  {
   "cell_type": "code",
   "execution_count": 37,
   "metadata": {},
   "outputs": [
    {
     "name": "stdout",
     "output_type": "stream",
     "text": [
      "                            OLS Regression Results                            \n",
      "==============================================================================\n",
      "Dep. Variable:                gpa_all   R-squared:                       0.370\n",
      "Model:                            OLS   Adj. R-squared:                  0.255\n",
      "Method:                 Least Squares   F-statistic:                     3.227\n",
      "Date:                Thu, 19 Nov 2020   Prob (F-statistic):             0.0316\n",
      "Time:                        18:10:28   Log-Likelihood:                -6.5941\n",
      "No. Observations:                  27   AIC:                             23.19\n",
      "Df Residuals:                      22   BIC:                             29.67\n",
      "Df Model:                           4                                         \n",
      "Covariance Type:            nonrobust                                         \n",
      "===================================================================================\n",
      "                      coef    std err          t      P>|t|      [0.025      0.975]\n",
      "-----------------------------------------------------------------------------------\n",
      "Intercept           3.5006      0.108     32.348      0.000       3.276       3.725\n",
      "C(Upset)[T.2.0]     0.0081      0.169      0.048      0.962      -0.342       0.358\n",
      "C(Upset)[T.3.0]    -0.0192      0.187     -0.102      0.919      -0.408       0.370\n",
      "C(Upset)[T.4.0]    -0.8931      0.265     -3.369      0.003      -1.443      -0.343\n",
      "C(Upset)[T.5.0]     0.0651      0.225      0.289      0.775      -0.402       0.532\n",
      "==============================================================================\n",
      "Omnibus:                        2.532   Durbin-Watson:                   1.452\n",
      "Prob(Omnibus):                  0.282   Jarque-Bera (JB):                2.210\n",
      "Skew:                          -0.659   Prob(JB):                        0.331\n",
      "Kurtosis:                       2.524   Cond. No.                         4.93\n",
      "==============================================================================\n",
      "\n",
      "Warnings:\n",
      "[1] Standard Errors assume that the covariance matrix of the errors is correctly specified.\n",
      "means for gpa based on the state of being upset\n",
      "        gpa_all\n",
      "Upset          \n",
      "1.0    3.500600\n",
      "2.0    3.508714\n",
      "3.0    3.481400\n",
      "4.0    2.607500\n",
      "5.0    3.565667\n",
      "standard deviations for gpa based on the state of being upset\n",
      "        gpa_all\n",
      "Upset          \n",
      "1.0    0.300803\n",
      "2.0    0.357751\n",
      "3.0    0.416112\n",
      "4.0    0.293449\n",
      "5.0    0.328244\n"
     ]
    }
   ],
   "source": [
    "model1 = smf.ols(formula='gpa_all ~ C(Upset)', data=sub1)\n",
    "results1 = model1.fit()\n",
    "print (results1.summary())\n",
    "\n",
    "sub2 = sub1[['gpa_all', 'Upset']].dropna()\n",
    "\n",
    "print ('means for gpa based on the state of being upset')\n",
    "m1= sub2.groupby('Upset').mean()\n",
    "print (m1)\n",
    "\n",
    "print ('standard deviations for gpa based on the state of being upset')\n",
    "sd1 = sub2.groupby('Upset').std()\n",
    "print (sd1)"
   ]
  },
  {
   "cell_type": "code",
   "execution_count": 39,
   "metadata": {},
   "outputs": [
    {
     "name": "stdout",
     "output_type": "stream",
     "text": [
      "                            OLS Regression Results                            \n",
      "==============================================================================\n",
      "Dep. Variable:                gpa_all   R-squared:                       0.239\n",
      "Model:                            OLS   Adj. R-squared:                  0.101\n",
      "Method:                 Least Squares   F-statistic:                     1.727\n",
      "Date:                Thu, 19 Nov 2020   Prob (F-statistic):              0.180\n",
      "Time:                        18:13:05   Log-Likelihood:                -9.1412\n",
      "No. Observations:                  27   AIC:                             28.28\n",
      "Df Residuals:                      22   BIC:                             34.76\n",
      "Df Model:                           4                                         \n",
      "Covariance Type:            nonrobust                                         \n",
      "=======================================================================================\n",
      "                          coef    std err          t      P>|t|      [0.025      0.975]\n",
      "---------------------------------------------------------------------------------------\n",
      "Intercept               3.8765      0.266     14.578      0.000       3.325       4.428\n",
      "C(Irritable)[T.2.0]    -0.4740      0.287     -1.650      0.113      -1.070       0.122\n",
      "C(Irritable)[T.3.0]    -0.5337      0.315     -1.696      0.104      -1.186       0.119\n",
      "C(Irritable)[T.4.0]    -0.7605      0.343     -2.215      0.037      -1.472      -0.049\n",
      "C(Irritable)[T.5.0]    -0.2283      0.315     -0.726      0.476      -0.881       0.424\n",
      "==============================================================================\n",
      "Omnibus:                        2.190   Durbin-Watson:                   2.196\n",
      "Prob(Omnibus):                  0.334   Jarque-Bera (JB):                1.727\n",
      "Skew:                          -0.463   Prob(JB):                        0.422\n",
      "Kurtosis:                       2.177   Cond. No.                         9.69\n",
      "==============================================================================\n",
      "\n",
      "Warnings:\n",
      "[1] Standard Errors assume that the covariance matrix of the errors is correctly specified.\n",
      "means for gpa based on the state of irritation\n",
      "           gpa_all\n",
      "Irritable         \n",
      "1.0         3.8765\n",
      "2.0         3.4025\n",
      "3.0         3.3428\n",
      "4.0         3.1160\n",
      "5.0         3.6482\n",
      "standard deviations for gpa based on the state of irritation\n",
      "            gpa_all\n",
      "Irritable          \n",
      "1.0        0.099702\n",
      "2.0        0.317463\n",
      "3.0        0.503674\n",
      "4.0        0.620074\n",
      "5.0        0.228672\n"
     ]
    }
   ],
   "source": [
    "model1 = smf.ols(formula='gpa_all ~ C(Irritable)', data=sub1)\n",
    "results1 = model1.fit()\n",
    "print (results1.summary())\n",
    "\n",
    "sub2 = sub1[['gpa_all', 'Irritable']].dropna()\n",
    "\n",
    "print ('means for gpa based on the state of irritation')\n",
    "m1= sub2.groupby('Irritable').mean()\n",
    "print (m1)\n",
    "\n",
    "print ('standard deviations for gpa based on the state of irritation')\n",
    "sd1 = sub2.groupby('Irritable').std()\n",
    "print (sd1)"
   ]
  },
  {
   "cell_type": "code",
   "execution_count": 41,
   "metadata": {},
   "outputs": [
    {
     "name": "stdout",
     "output_type": "stream",
     "text": [
      "                            OLS Regression Results                            \n",
      "==============================================================================\n",
      "Dep. Variable:                gpa_all   R-squared:                       0.309\n",
      "Model:                            OLS   Adj. R-squared:                  0.184\n",
      "Method:                 Least Squares   F-statistic:                     2.462\n",
      "Date:                Thu, 19 Nov 2020   Prob (F-statistic):             0.0752\n",
      "Time:                        18:14:02   Log-Likelihood:                -7.8335\n",
      "No. Observations:                  27   AIC:                             25.67\n",
      "Df Residuals:                      22   BIC:                             32.15\n",
      "Df Model:                           4                                         \n",
      "Covariance Type:            nonrobust                                         \n",
      "=====================================================================================\n",
      "                        coef    std err          t      P>|t|      [0.025      0.975]\n",
      "-------------------------------------------------------------------------------------\n",
      "Intercept             3.7232      0.146     25.454      0.000       3.420       4.027\n",
      "C(Nervous)[T.2.0]    -0.3090      0.217     -1.424      0.168      -0.759       0.141\n",
      "C(Nervous)[T.3.0]    -0.4176      0.185     -2.257      0.034      -0.801      -0.034\n",
      "C(Nervous)[T.4.0]    -0.0979      0.231     -0.423      0.676      -0.578       0.382\n",
      "C(Nervous)[T.5.0]    -0.7637      0.293     -2.610      0.016      -1.370      -0.157\n",
      "==============================================================================\n",
      "Omnibus:                        2.477   Durbin-Watson:                   2.153\n",
      "Prob(Omnibus):                  0.290   Jarque-Bera (JB):                1.239\n",
      "Skew:                          -0.072   Prob(JB):                        0.538\n",
      "Kurtosis:                       1.960   Cond. No.                         5.97\n",
      "==============================================================================\n",
      "\n",
      "Warnings:\n",
      "[1] Standard Errors assume that the covariance matrix of the errors is correctly specified.\n",
      "means for gpa based on the state of nervousness\n",
      "          gpa_all\n",
      "Nervous          \n",
      "1.0      3.723167\n",
      "2.0      3.414200\n",
      "3.0      3.305600\n",
      "4.0      3.625250\n",
      "5.0      2.959500\n",
      "standard deviations for gpa based on the state of nervousness\n",
      "          gpa_all\n",
      "Nervous          \n",
      "1.0      0.198351\n",
      "2.0      0.270923\n",
      "3.0      0.409880\n",
      "4.0      0.255466\n",
      "5.0      0.791252\n"
     ]
    }
   ],
   "source": [
    "model1 = smf.ols(formula='gpa_all ~ C(Nervous)', data=sub1)\n",
    "results1 = model1.fit()\n",
    "print (results1.summary())\n",
    "\n",
    "sub2 = sub1[['gpa_all', 'Nervous']].dropna()\n",
    "\n",
    "print ('means for gpa based on the state of nervousness')\n",
    "m1= sub2.groupby('Nervous').mean()\n",
    "print (m1)\n",
    "\n",
    "print ('standard deviations for gpa based on the state of nervousness')\n",
    "sd1 = sub2.groupby('Nervous').std()\n",
    "print (sd1)"
   ]
  },
  {
   "cell_type": "code",
   "execution_count": null,
   "metadata": {},
   "outputs": [],
   "source": []
  },
  {
   "cell_type": "code",
   "execution_count": 6,
   "metadata": {},
   "outputs": [],
   "source": [
    "sub1[' gpa all']=pd.to_numeric(data[' gpa all'],errors='coerce')\n",
    "sub1['Distressed']=pd.to_numeric(data['Distressed'],errors='coerce')\n",
    "sub1['Upset']=pd.to_numeric(data['Upset'],errors='coerce')\n",
    "sub1['Proud']=pd.to_numeric(data['Proud'],errors='coerce')\n",
    "sub1['Irritable']=pd.to_numeric(data['Irritable'],errors='coerce')\n",
    "sub1['Nervous']=pd.to_numeric(data['Nervous'],errors='coerce')"
   ]
  },
  {
   "cell_type": "code",
   "execution_count": null,
   "metadata": {},
   "outputs": [],
   "source": [
    "sub1"
   ]
  }
 ],
 "metadata": {
  "kernelspec": {
   "display_name": "Python 3",
   "language": "python",
   "name": "python3"
  },
  "language_info": {
   "codemirror_mode": {
    "name": "ipython",
    "version": 3
   },
   "file_extension": ".py",
   "mimetype": "text/x-python",
   "name": "python",
   "nbconvert_exporter": "python",
   "pygments_lexer": "ipython3",
   "version": "3.7.6"
  }
 },
 "nbformat": 4,
 "nbformat_minor": 4
}
